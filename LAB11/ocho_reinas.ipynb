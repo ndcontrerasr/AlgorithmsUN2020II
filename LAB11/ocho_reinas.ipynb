{
 "cells": [
  {
   "cell_type": "markdown",
   "metadata": {},
   "source": [
    "# Laboratorio 11\n",
    "### Nicolas David Contreras Ramirez\n",
    "Resuelve el problema de las ocho reinas en colab\n",
    "\n",
    "    * Algoritmos en C ++ Búsqueda completa, Codiciosos, Divide y vencerás , Programación dinámica hacia la ciencia de datos\n",
    "    * Rompecabezas de las ocho reinas - programa de muestra wikipedia\n",
    "    * Problema de N Queen | Backtracking-3 https://www.geeksforgeeks.org/n-queen-problem-backtracking-3/"
   ]
  },
  {
   "cell_type": "code",
   "execution_count": 127,
   "metadata": {},
   "outputs": [],
   "source": [
    "#librerias\n",
    "from os import system\n",
    "import copy\n",
    "from random import randrange"
   ]
  },
  {
   "cell_type": "code",
   "execution_count": 130,
   "metadata": {},
   "outputs": [],
   "source": [
    "def mostrar(mat):\n",
    "    print(\"Salida del tablero\\n\")\n",
    "    for i in range(len(mat)):\n",
    "        for j in range(len(mat)):\n",
    "            if(mat[i][j]!=2):\n",
    "                mat[i][j]=0\n",
    "    for i in mat:\n",
    "        print(i)"
   ]
  },
  {
   "cell_type": "code",
   "execution_count": 44,
   "metadata": {},
   "outputs": [],
   "source": [
    "def cambio(mat,x,y):\n",
    "    mar=mat[:]\n",
    "    \n",
    "    for i in range(len(mar)):\n",
    "        mar[x][i]=1\n",
    "    c=y\n",
    "    d=y\n",
    "    for i in range(x,len(mar)):\n",
    "        mar[i][y]=1\n",
    "        if(c<len(mar)):\n",
    "            if(c!=y):\n",
    "                mar[i][c] = 1\n",
    "            c+=1\n",
    "        if(d>=0):\n",
    "            if(d!=y):\n",
    "                mar[i][d] = 1\n",
    "            d=d-1\n",
    "    mar[x][y]=2\n",
    "#     mostrar(mar)\n",
    "    return mar"
   ]
  },
  {
   "cell_type": "code",
   "execution_count": 148,
   "metadata": {},
   "outputs": [],
   "source": [
    "def llenar(mat,b,x,tal):\n",
    "    y = tal.pop(randrange(len(tal)))\n",
    "#     print(b, \" | \", x)\n",
    "    if(x == b):\n",
    "#         print(b, \" | \", x)\n",
    "#         print(\"hola\")\n",
    "        mostrar(mat)\n",
    "        return True\n",
    "    \n",
    "    while(len(tal)!=0):\n",
    "        a = False\n",
    "        if(mat[x][y]!=1):\n",
    "            may = copy.deepcopy(mat)\n",
    "            a = llenar(cambio(mat,x,y),b,x+1,[i for i in range(len(mat))])\n",
    "\n",
    "            mat = copy.deepcopy(may)\n",
    "        if(a):\n",
    "            y=len(mat)+1\n",
    "            return a\n",
    "        y= tal.pop(randrange(len(tal)))\n",
    "        \n",
    "    return False"
   ]
  },
  {
   "cell_type": "code",
   "execution_count": 144,
   "metadata": {},
   "outputs": [],
   "source": [
    "def Tablero_Reinas(a,b):\n",
    "    mat=[]\n",
    "    for i in range(a):\n",
    "        mat.append([0 for j in range(a)]) \n",
    "#     mostrar(cambio(mat,0,0))\n",
    "    print(llenar(mat,b,0,[i for i in range(a)]))"
   ]
  },
  {
   "cell_type": "code",
   "execution_count": 151,
   "metadata": {},
   "outputs": [
    {
     "name": "stdout",
     "output_type": "stream",
     "text": [
      "\n",
      "\tInicio del programa.\n",
      "\n"
     ]
    },
    {
     "name": "stdin",
     "output_type": "stream",
     "text": [
      "tamaño de la matriz:  8\n",
      "Numero de Reinas, menor o igual a la matriz:  8\n"
     ]
    },
    {
     "name": "stdout",
     "output_type": "stream",
     "text": [
      "La matriz de tamaño  8 x 8  con  8 Reinas\n",
      "\n",
      "Salida del tablero\n",
      "\n",
      "[0, 0, 0, 0, 2, 0, 0, 0]\n",
      "[2, 0, 0, 0, 0, 0, 0, 0]\n",
      "[0, 0, 0, 0, 0, 0, 0, 2]\n",
      "[0, 0, 0, 2, 0, 0, 0, 0]\n",
      "[0, 2, 0, 0, 0, 0, 0, 0]\n",
      "[0, 0, 0, 0, 0, 0, 2, 0]\n",
      "[0, 0, 2, 0, 0, 0, 0, 0]\n",
      "[0, 0, 0, 0, 0, 2, 0, 0]\n",
      "True\n"
     ]
    }
   ],
   "source": [
    "#Programa que genera el rompecabezas de n reinas en un espacio NXN.\n",
    "#Problema de N Queen\n",
    "\n",
    "print(\"\\n\\tInicio del programa.\\n\")\n",
    "a = int(input(\"tamaño de la matriz: \"))\n",
    "b = int(input(\"Numero de Reinas, menor o igual a la matriz: \"))\n",
    "while(a<b):\n",
    "    b=int(input(\"Numero de Reinas, menor o igual a la matriz: \"))\n",
    "system(\"clear\")\n",
    "\n",
    "print(\"La matriz de tamaño \", a,\"x\",a,\" con \", b, \"Reinas\\n\")\n",
    "Tablero_Reinas(a,b)"
   ]
  },
  {
   "cell_type": "code",
   "execution_count": 154,
   "metadata": {},
   "outputs": [
    {
     "name": "stdout",
     "output_type": "stream",
     "text": [
      "\n",
      "\tInicio del programa.\n",
      "\n"
     ]
    },
    {
     "name": "stdin",
     "output_type": "stream",
     "text": [
      "Numero de Reinas, menor o igual a 8:  5\n"
     ]
    },
    {
     "name": "stdout",
     "output_type": "stream",
     "text": [
      "La matriz de tamaño  8 x 8  con  5 Reinas\n",
      "\n",
      "Salida del tablero\n",
      "\n",
      "[0, 0, 0, 0, 0, 2, 0, 0]\n",
      "[0, 2, 0, 0, 0, 0, 0, 0]\n",
      "[0, 0, 0, 0, 0, 0, 2, 0]\n",
      "[2, 0, 0, 0, 0, 0, 0, 0]\n",
      "[0, 0, 0, 0, 0, 0, 0, 2]\n",
      "[0, 0, 0, 0, 0, 0, 0, 0]\n",
      "[0, 0, 0, 0, 0, 0, 0, 0]\n",
      "[0, 0, 0, 0, 0, 0, 0, 0]\n",
      "True\n"
     ]
    }
   ],
   "source": [
    "#Programa que genera el rompecabezas de n reinas en un espacio 8x8.\n",
    "#Rompecabezas de las ocho reinas\n",
    "print(\"\\n\\tInicio del programa.\\n\")\n",
    "a = 8\n",
    "b = int(input(\"Numero de Reinas, menor o igual a 8: \"))\n",
    "while(a<b):\n",
    "    b=int(input(\"Numero de Reinas, menor o igual a 8: \"))\n",
    "system(\"clear\")\n",
    "\n",
    "print(\"La matriz de tamaño \", a,\"x\",a,\" con \", b, \"Reinas\\n\")\n",
    "Tablero_Reinas(a,b)"
   ]
  }
 ],
 "metadata": {
  "kernelspec": {
   "display_name": "Python 3",
   "language": "python",
   "name": "python3"
  },
  "language_info": {
   "codemirror_mode": {
    "name": "ipython",
    "version": 3
   },
   "file_extension": ".py",
   "mimetype": "text/x-python",
   "name": "python",
   "nbconvert_exporter": "python",
   "pygments_lexer": "ipython3",
   "version": "3.7.7"
  }
 },
 "nbformat": 4,
 "nbformat_minor": 4
}
