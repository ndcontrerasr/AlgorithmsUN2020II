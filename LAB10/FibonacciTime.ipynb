{
 "cells": [
  {
   "cell_type": "code",
   "execution_count": 10,
   "metadata": {},
   "outputs": [],
   "source": [
    "from time import time"
   ]
  },
  {
   "cell_type": "code",
   "execution_count": 1,
   "metadata": {},
   "outputs": [],
   "source": [
    "def fibR(n):\n",
    "    if n==0 :\n",
    "        return 0\n",
    "    if n==1 :\n",
    "        return 1\n",
    "    return fibR(n-1)+fibR(n-2)"
   ]
  },
  {
   "cell_type": "code",
   "execution_count": 31,
   "metadata": {
    "collapsed": false,
    "jupyter": {
     "outputs_hidden": false
    }
   },
   "outputs": [],
   "source": [
    "def Fibonacci_Recursivo(n):\n",
    "    t0 = time()\n",
    "    k = fibR(n)\n",
    "    tf = time()\n",
    "    print(\"n=\",n,\"fib(\",n,\")=\",k,\"time\",tf - t0, \"seconds process time\")"
   ]
  },
  {
   "cell_type": "code",
   "execution_count": 36,
   "metadata": {},
   "outputs": [
    {
     "name": "stdout",
     "output_type": "stream",
     "text": [
      "\tFibonacci con Recursiones\n",
      "\n",
      "n= 0 fib( 0 )= 0 time 9.5367431640625e-07 seconds process time\n",
      "n= 1 fib( 1 )= 1 time 9.5367431640625e-07 seconds process time\n",
      "n= 2 fib( 2 )= 1 time 2.6226043701171875e-06 seconds process time\n",
      "n= 3 fib( 3 )= 2 time 3.0994415283203125e-06 seconds process time\n",
      "n= 4 fib( 4 )= 3 time 3.5762786865234375e-06 seconds process time\n",
      "n= 5 fib( 5 )= 5 time 4.5299530029296875e-06 seconds process time\n",
      "n= 6 fib( 6 )= 8 time 6.4373016357421875e-06 seconds process time\n",
      "n= 7 fib( 7 )= 13 time 9.298324584960938e-06 seconds process time\n",
      "n= 8 fib( 8 )= 21 time 2.1457672119140625e-05 seconds process time\n",
      "n= 9 fib( 9 )= 34 time 2.0503997802734375e-05 seconds process time\n",
      "n= 10 fib( 10 )= 55 time 4.744529724121094e-05 seconds process time\n",
      "n= 11 fib( 11 )= 89 time 5.173683166503906e-05 seconds process time\n",
      "n= 12 fib( 12 )= 144 time 0.00012540817260742188 seconds process time\n",
      "n= 13 fib( 13 )= 233 time 0.0001246929168701172 seconds process time\n",
      "n= 14 fib( 14 )= 377 time 0.00020003318786621094 seconds process time\n",
      "n= 15 fib( 15 )= 610 time 0.0003216266632080078 seconds process time\n",
      "n= 16 fib( 16 )= 987 time 0.0005230903625488281 seconds process time\n",
      "n= 17 fib( 17 )= 1597 time 0.0008976459503173828 seconds process time\n",
      "n= 18 fib( 18 )= 2584 time 0.0016703605651855469 seconds process time\n",
      "n= 19 fib( 19 )= 4181 time 0.003931760787963867 seconds process time\n",
      "n= 20 fib( 20 )= 6765 time 0.005741119384765625 seconds process time\n",
      "n= 21 fib( 21 )= 10946 time 0.024633407592773438 seconds process time\n",
      "n= 22 fib( 22 )= 17711 time 0.020265817642211914 seconds process time\n",
      "n= 23 fib( 23 )= 28657 time 0.02884531021118164 seconds process time\n",
      "n= 24 fib( 24 )= 46368 time 0.04451799392700195 seconds process time\n",
      "n= 25 fib( 25 )= 75025 time 0.04587507247924805 seconds process time\n",
      "n= 26 fib( 26 )= 121393 time 0.0929865837097168 seconds process time\n",
      "n= 27 fib( 27 )= 196418 time 0.1358027458190918 seconds process time\n",
      "n= 28 fib( 28 )= 317811 time 0.21545672416687012 seconds process time\n",
      "n= 29 fib( 29 )= 514229 time 0.30335283279418945 seconds process time\n",
      "n= 30 fib( 30 )= 832040 time 0.4994378089904785 seconds process time\n",
      "n= 31 fib( 31 )= 1346269 time 0.9212799072265625 seconds process time\n",
      "n= 32 fib( 32 )= 2178309 time 1.2896318435668945 seconds process time\n",
      "n= 33 fib( 33 )= 3524578 time 2.160468816757202 seconds process time\n",
      "n= 34 fib( 34 )= 5702887 time 3.4009387493133545 seconds process time\n",
      "n= 35 fib( 35 )= 9227465 time 5.889119386672974 seconds process time\n",
      "n= 36 fib( 36 )= 14930352 time 9.171187400817871 seconds process time\n",
      "n= 37 fib( 37 )= 24157817 time 16.792628288269043 seconds process time\n",
      "n= 38 fib( 38 )= 39088169 time 26.944010734558105 seconds process time\n",
      "n= 39 fib( 39 )= 63245986 time 46.63344764709473 seconds process time\n",
      "n= 40 fib( 40 )= 102334155 time 61.286006450653076 seconds process time\n",
      "n= 41 fib( 41 )= 165580141 time 92.53184127807617 seconds process time\n",
      "n= 42 fib( 42 )= 267914296 time 147.895414352417 seconds process time\n",
      "n= 43 fib( 43 )= 433494437 time 260.76684641838074 seconds process time\n",
      "n= 44 fib( 44 )= 701408733 time 384.9704556465149 seconds process time\n",
      "n= 45 fib( 45 )= 1134903170 time 754.7783353328705 seconds process time\n",
      "n= 46 fib( 46 )= 1836311903 time 1193.3013682365417 seconds process time\n",
      "n= 47 fib( 47 )= 2971215073 time 2050.2931513786316 seconds process time\n",
      "n= 48 fib( 48 )= 4807526976 time 3106.315278530121 seconds process time\n",
      "n= 49 fib( 49 )= 7778742049 time 4914.742072343826 seconds process time\n",
      "n= 50 fib( 50 )= 12586269025 time 8008.784407615662 seconds process time\n"
     ]
    }
   ],
   "source": [
    "print(\"\\tFibonacci con Recursiones\\n\")\n",
    "for i in range(51):\n",
    "    Fibonacci_Recursivo(i)"
   ]
  }
 ],
 "metadata": {
  "kernelspec": {
   "display_name": "Python 3",
   "language": "python",
   "name": "python3"
  },
  "language_info": {
   "codemirror_mode": {
    "name": "ipython",
    "version": 3
   },
   "file_extension": ".py",
   "mimetype": "text/x-python",
   "name": "python",
   "nbconvert_exporter": "python",
   "pygments_lexer": "ipython3",
   "version": "3.7.7"
  }
 },
 "nbformat": 4,
 "nbformat_minor": 4
}
