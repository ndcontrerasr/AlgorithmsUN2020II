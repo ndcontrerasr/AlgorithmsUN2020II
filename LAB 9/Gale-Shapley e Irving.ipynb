{
 "cells": [
  {
   "cell_type": "markdown",
   "metadata": {},
   "source": [
    "# LAB 9 Algoritmos de Gale-Shapley e Irving\n",
    "#### Nicolas David Contreras Ramirez"
   ]
  },
  {
   "cell_type": "code",
   "execution_count": 124,
   "metadata": {},
   "outputs": [],
   "source": [
    "import numpy as np\n",
    "import random\n",
    "import matplotlib.pyplot as plt\n",
    "from tqdm import tqdm\n",
    "from time import sleep"
   ]
  },
  {
   "cell_type": "code",
   "execution_count": 72,
   "metadata": {},
   "outputs": [],
   "source": [
    "def gustos(a):\n",
    "    mat = []\n",
    "    \n",
    "    for i in range(a):\n",
    "        mar = [i for i in range(a)]\n",
    "        random.shuffle(mar)\n",
    "\n",
    "        mat.append(mar)\n",
    "#     print(mat)\n",
    "    return mat"
   ]
  },
  {
   "cell_type": "code",
   "execution_count": 107,
   "metadata": {},
   "outputs": [],
   "source": [
    "def gale_shapley(men, women):\n",
    "    \n",
    "    n = len(women)\n",
    "    wl = np.empty([n,n])\n",
    "    free = [i for i in range(n)]\n",
    "    womat = [-1 for i in range(n)]\n",
    "#     print(womat)\n",
    "    iterar = 0\n",
    "\n",
    "    for i in range(len(women)):\n",
    "        for j,p in enumerate(women[i]):\n",
    "            wl[i][p-1] = j\n",
    "#             \n",
    "    while free:\n",
    "        man = free.pop(0)\n",
    "        iterar = iterar + 1\n",
    "        preferir = men[man][0] - 1\n",
    "        if womat[preferir] == -1:\n",
    "            womat[preferir] = man\n",
    "        else:\n",
    "            if wl[preferir][man] < wl[preferir][womat[preferir]]:\n",
    "                free.append(womat[preferir])\n",
    "                men[womat[preferir]].pop(0)\n",
    "                womat[preferir] = man\n",
    "            else:\n",
    "                free.append(man)\n",
    "                men[man].pop(0)\n",
    "\n",
    "    return womat, iterar"
   ]
  },
  {
   "cell_type": "code",
   "execution_count": 116,
   "metadata": {},
   "outputs": [
    {
     "name": "stdin",
     "output_type": "stream",
     "text": [
      "Numero de niños:  4\n"
     ]
    },
    {
     "name": "stdout",
     "output_type": "stream",
     "text": [
      "\n",
      "Hombre 4 con Mujer 1\n",
      "Hombre 1 con Mujer 2\n",
      "Hombre 2 con Mujer 3\n",
      "Hombre 3 con Mujer 4\n",
      "\n",
      "En 4 iteraciones\n"
     ]
    }
   ],
   "source": [
    "a = int(input(\"Numero de niños: \"))\n",
    "men = gustos(a)\n",
    "women = gustos(a)\n",
    "\n",
    "print()\n",
    "mat, iterar = gale_shapley(men, women)\n",
    "\n",
    "for i in range(len(mat)):\n",
    "    print(\"Hombre\",mat[i]+1, \"con Mujer\", i+1)\n",
    "print(\"\\nEn\", iterar, \"iteraciones\")\n"
   ]
  },
  {
   "cell_type": "markdown",
   "metadata": {},
   "source": [
    "## Peor caso n=4"
   ]
  },
  {
   "cell_type": "code",
   "execution_count": 121,
   "metadata": {},
   "outputs": [
    {
     "name": "stdout",
     "output_type": "stream",
     "text": [
      "Peor caso\n"
     ]
    },
    {
     "name": "stdin",
     "output_type": "stream",
     "text": [
      "Numero de niños + 1:  3\n"
     ]
    },
    {
     "name": "stdout",
     "output_type": "stream",
     "text": [
      "\n",
      "Hombre 4 con Mujer 1\n",
      "Hombre 3 con Mujer 2\n",
      "Hombre 2 con Mujer 3\n",
      "Hombre 1 con Mujer 4\n",
      "\n",
      "En 9 iteraciones\n"
     ]
    }
   ],
   "source": [
    "print(\"Peor caso\")\n",
    "a = int(input(\"Numero de niños + 1: \"))\n",
    "men = gustos(a)\n",
    "women = gustos(a+1)\n",
    "man = men[0][:]\n",
    "random.shuffle(man)\n",
    "men.append(man)\n",
    "for i in range(len(men)):\n",
    "    men[i].append(a+1)\n",
    "\n",
    "print()\n",
    "mat, iterar = gale_shapley(men, women)\n",
    "\n",
    "for i in range(len(mat)):\n",
    "    print(\"Hombre\",mat[i]+1, \"con Mujer\", i+1)\n",
    "print(\"\\nEn\", iterar, \"iteraciones\")"
   ]
  },
  {
   "cell_type": "code",
   "execution_count": 123,
   "metadata": {},
   "outputs": [
    {
     "name": "stdin",
     "output_type": "stream",
     "text": [
      "Numero de niños:  40\n"
     ]
    },
    {
     "name": "stdout",
     "output_type": "stream",
     "text": [
      "\n",
      "Hombre 33 con Mujer 1\n",
      "Hombre 31 con Mujer 2\n",
      "Hombre 16 con Mujer 3\n",
      "Hombre 28 con Mujer 4\n",
      "Hombre 38 con Mujer 5\n",
      "Hombre 5 con Mujer 6\n",
      "Hombre 10 con Mujer 7\n",
      "Hombre 34 con Mujer 8\n",
      "Hombre 27 con Mujer 9\n",
      "Hombre 6 con Mujer 10\n",
      "Hombre 1 con Mujer 11\n",
      "Hombre 40 con Mujer 12\n",
      "Hombre 20 con Mujer 13\n",
      "Hombre 21 con Mujer 14\n",
      "Hombre 39 con Mujer 15\n",
      "Hombre 11 con Mujer 16\n",
      "Hombre 13 con Mujer 17\n",
      "Hombre 29 con Mujer 18\n",
      "Hombre 36 con Mujer 19\n",
      "Hombre 4 con Mujer 20\n",
      "Hombre 8 con Mujer 21\n",
      "Hombre 14 con Mujer 22\n",
      "Hombre 30 con Mujer 23\n",
      "Hombre 37 con Mujer 24\n",
      "Hombre 26 con Mujer 25\n",
      "Hombre 15 con Mujer 26\n",
      "Hombre 17 con Mujer 27\n",
      "Hombre 18 con Mujer 28\n",
      "Hombre 32 con Mujer 29\n",
      "Hombre 25 con Mujer 30\n",
      "Hombre 23 con Mujer 31\n",
      "Hombre 7 con Mujer 32\n",
      "Hombre 35 con Mujer 33\n",
      "Hombre 19 con Mujer 34\n",
      "Hombre 2 con Mujer 35\n",
      "Hombre 9 con Mujer 36\n",
      "Hombre 3 con Mujer 37\n",
      "Hombre 12 con Mujer 38\n",
      "Hombre 22 con Mujer 39\n",
      "Hombre 24 con Mujer 40\n",
      "\n",
      "En 324 iteraciones\n"
     ]
    }
   ],
   "source": [
    "a = int(input(\"Numero de niños: \"))\n",
    "men = gustos(a)\n",
    "women = gustos(a)\n",
    "\n",
    "print()\n",
    "mat, iterar = gale_shapley(men, women)\n",
    "\n",
    "for i in range(len(mat)):\n",
    "    print(\"Hombre\",mat[i]+1, \"con Mujer\", i+1)\n",
    "print(\"\\nEn\", iterar, \"iteraciones\")"
   ]
  },
  {
   "cell_type": "markdown",
   "metadata": {},
   "source": [
    "# PUNTO 2"
   ]
  },
  {
   "cell_type": "code",
   "execution_count": 165,
   "metadata": {},
   "outputs": [
    {
     "name": "stderr",
     "output_type": "stream",
     "text": [
      "100%|██████████| 100/100 [00:00<00:00, 4898.86it/s]"
     ]
    },
    {
     "name": "stdout",
     "output_type": "stream",
     "text": [
      "hola\n",
      "hola\n",
      "hola\n",
      "Mínimas iteraciones: 4.0\n",
      "Máximas iteraciones: 11.0\n",
      "Iteraciones promedio: 6.65\n"
     ]
    },
    {
     "name": "stderr",
     "output_type": "stream",
     "text": [
      "\n"
     ]
    },
    {
     "data": {
      "text/plain": [
       "(array([ 9., 18., 22.,  0., 21., 18.,  0.,  6.,  4.,  2.]),\n",
       " array([ 4. ,  4.7,  5.4,  6.1,  6.8,  7.5,  8.2,  8.9,  9.6, 10.3, 11. ]),\n",
       " <BarContainer object of 10 artists>)"
      ]
     },
     "execution_count": 165,
     "metadata": {},
     "output_type": "execute_result"
    },
    {
     "data": {
      "image/png": "[encoded data removed]",
      "text/plain": [
       "<Figure size 432x288 with 1 Axes>"
      ]
     },
     "metadata": {
      "needs_background": "light"
     },
     "output_type": "display_data"
    }
   ],
   "source": [
    "iteraciones = np.empty(100)\n",
    "min_it = -1\n",
    "max_it = -1\n",
    "c=True\n",
    "for i in tqdm(range(100)):\n",
    "\n",
    "    men = gustos(4)\n",
    "    women = gustos(4)\n",
    "\n",
    "    mat, iteraciones[i] = gale_shapley(men, women)  \n",
    "\n",
    "    if min_it == -1 and c:\n",
    "        min_it = iteraciones[i]\n",
    "        max_it = iteraciones[i]\n",
    "        c=False\n",
    "    \n",
    "    if min_it > iteraciones[i] and c == False:\n",
    "        print(\"hola\")\n",
    "        min_it = iteraciones[i]\n",
    "\n",
    "    if max_it < iteraciones[i] and c == False:\n",
    "        max_it = iteraciones[i]\n",
    "\n",
    "print(\"Mínimas iteraciones:\", min_it)\n",
    "print(\"Máximas iteraciones:\", max_it)\n",
    "print(\"Iteraciones promedio:\", iteraciones.mean())\n",
    "\n",
    "plt.hist(iteraciones)"
   ]
  },
  {
   "cell_type": "code",
   "execution_count": 166,
   "metadata": {},
   "outputs": [
    {
     "name": "stderr",
     "output_type": "stream",
     "text": [
      " 28%|██▊       | 28/100 [00:00<00:00, 129.72it/s]"
     ]
    },
    {
     "name": "stdout",
     "output_type": "stream",
     "text": [
      "hola\n",
      "hola\n"
     ]
    },
    {
     "name": "stderr",
     "output_type": "stream",
     "text": [
      " 62%|██████▏   | 62/100 [00:00<00:00, 144.61it/s]"
     ]
    },
    {
     "name": "stdout",
     "output_type": "stream",
     "text": [
      "hola\n",
      "hola\n"
     ]
    },
    {
     "name": "stderr",
     "output_type": "stream",
     "text": [
      "100%|██████████| 100/100 [00:00<00:00, 159.80it/s]"
     ]
    },
    {
     "name": "stdout",
     "output_type": "stream",
     "text": [
      "Mínimas iteraciones: 80.0\n",
      "Máximas iteraciones: 252.0\n",
      "Iteraciones promedio: 149.04\n"
     ]
    },
    {
     "name": "stderr",
     "output_type": "stream",
     "text": [
      "\n"
     ]
    },
    {
     "data": {
      "text/plain": [
       "(array([ 4., 11., 19., 18., 19., 13.,  9.,  3.,  2.,  2.]),\n",
       " array([ 80. ,  97.2, 114.4, 131.6, 148.8, 166. , 183.2, 200.4, 217.6,\n",
       "        234.8, 252. ]),\n",
       " <BarContainer object of 10 artists>)"
      ]
     },
     "execution_count": 166,
     "metadata": {},
     "output_type": "execute_result"
    },
    {
     "data": {
      "image/png": "[encoded data removed]",
      "text/plain": [
       "<Figure size 432x288 with 1 Axes>"
      ]
     },
     "metadata": {
      "needs_background": "light"
     },
     "output_type": "display_data"
    }
   ],
   "source": [
    "iteraciones = np.empty(100)\n",
    "min_it = -1\n",
    "max_it = -1\n",
    "c=True\n",
    "for i in tqdm(range(100)):\n",
    "\n",
    "    men = gustos(40)\n",
    "    women = gustos(40)\n",
    "\n",
    "    mat, iteraciones[i] = gale_shapley(men, women)  \n",
    "\n",
    "    if min_it == -1 and c:\n",
    "        min_it = iteraciones[i]\n",
    "        max_it = iteraciones[i]\n",
    "        c=False\n",
    "    \n",
    "    if min_it > iteraciones[i] and c == False:\n",
    "        print(\"hola\")\n",
    "        min_it = iteraciones[i]\n",
    "\n",
    "    if max_it < iteraciones[i] and c == False:\n",
    "        max_it = iteraciones[i]\n",
    "\n",
    "print(\"Mínimas iteraciones:\", min_it)\n",
    "print(\"Máximas iteraciones:\", max_it)\n",
    "print(\"Iteraciones promedio:\", iteraciones.mean())\n",
    "\n",
    "plt.hist(iteraciones)"
   ]
  }
 ],
 "metadata": {
  "kernelspec": {
   "display_name": "Python 3",
   "language": "python",
   "name": "python3"
  },
  "language_info": {
   "codemirror_mode": {
    "name": "ipython",
    "version": 3
   },
   "file_extension": ".py",
   "mimetype": "text/x-python",
   "name": "python",
   "nbconvert_exporter": "python",
   "pygments_lexer": "ipython3",
   "version": "3.7.7"
  }
 },
 "nbformat": 4,
 "nbformat_minor": 4
}
